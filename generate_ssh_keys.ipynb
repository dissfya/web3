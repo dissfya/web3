{
 "cells": [
  {
   "cell_type": "code",
   "execution_count": null,
   "id": "d6114b1f-4edd-4000-9178-9cd2519f458a",
   "metadata": {},
   "outputs": [],
   "source": [
    "!pip install cryptography\n",
    "!pip install paramiko"
   ]
  },
  {
   "cell_type": "code",
   "execution_count": null,
   "id": "f5b31b44-28a8-4333-ad2e-d0a7235976a3",
   "metadata": {},
   "outputs": [],
   "source": [
    "from cryptography.hazmat.primitives.asymmetric import rsa\n",
    "from cryptography.hazmat.primitives import serialization\n",
    "from cryptography.hazmat.backends import default_backend\n",
    "\n",
    "import paramiko\n",
    "import os"
   ]
  },
  {
   "cell_type": "code",
   "execution_count": null,
   "id": "4f4d5d94-3965-4a51-a977-25839e223a07",
   "metadata": {},
   "outputs": [],
   "source": [
    "hostname = ''\n",
    "port = 22\n",
    "username = 'root'\n",
    "password = ''"
   ]
  },
  {
   "cell_type": "code",
   "execution_count": null,
   "id": "977f80d4-99d7-4f93-be65-13b4a960c51d",
   "metadata": {},
   "outputs": [],
   "source": [
    "directory = ''.join([x for x in hostname if x.isdigit()])[-5:]\n",
    "                    \n",
    "public_key_path = f'{directory}.pub'\n",
    "private_key_path = f'{directory}'"
   ]
  },
  {
   "cell_type": "code",
   "execution_count": null,
   "id": "1a06c2d3-a326-412d-a812-edc9e80d4501",
   "metadata": {},
   "outputs": [],
   "source": [
    "def generate_ssh_keys(private_key_path, public_key_path, passphrase=None):\n",
    "    private_key = rsa.generate_private_key(\n",
    "        public_exponent=65537,\n",
    "        key_size=2048,\n",
    "        backend=default_backend()\n",
    "    )\n",
    "\n",
    "    private_key_bytes = private_key.private_bytes(\n",
    "        encoding=serialization.Encoding.PEM,\n",
    "        format=serialization.PrivateFormat.TraditionalOpenSSL,\n",
    "        encryption_algorithm=serialization.BestAvailableEncryption(passphrase.encode()) if passphrase else serialization.NoEncryption()\n",
    "    )\n",
    "\n",
    "    with open(private_key_path, \"wb\") as private_key_file:\n",
    "        private_key_file.write(private_key_bytes)\n",
    "\n",
    "    public_key = private_key.public_key()\n",
    "    public_key_bytes = public_key.public_bytes(\n",
    "        encoding=serialization.Encoding.OpenSSH,\n",
    "        format=serialization.PublicFormat.OpenSSH\n",
    "    )\n",
    "\n",
    "    with open(public_key_path, \"wb\") as public_key_file:\n",
    "        public_key_file.write(public_key_bytes)"
   ]
  },
  {
   "cell_type": "code",
   "execution_count": null,
   "id": "64fccf1f-37af-4f29-9624-d46d98e94ef2",
   "metadata": {},
   "outputs": [],
   "source": [
    "def load_key():\n",
    "    try:\n",
    "        remote_authorized_keys_path = \"/root/.ssh/authorized_keys\"\n",
    "        ssh = paramiko.SSHClient()\n",
    "        \n",
    "        ssh.set_missing_host_key_policy(paramiko.AutoAddPolicy())\n",
    "        ssh.connect(hostname, port, username, password)\n",
    "\n",
    "        ssh.exec_command('mkdir -p /root/.ssh')\n",
    "        ssh.exec_command('chmod 700 /root/.ssh')\n",
    "\n",
    "        ssh.exec_command(f'sudo touch {remote_authorized_keys_path}')\n",
    "\n",
    "        sftp = ssh.open_sftp()\n",
    "        file_info = sftp.stat(remote_authorized_keys_path)\n",
    "    \n",
    "        if file_info.st_size == 0:\n",
    "            print(f\"Файл {remote_authorized_keys_path} пустой.\")\n",
    "            \n",
    "            generate_ssh_keys(private_key_path, public_key_path)\n",
    "\n",
    "            with open(public_key_path, \"r\") as pubkey_file:\n",
    "                public_key = pubkey_file.read()\n",
    "            \n",
    "            ssh.exec_command(f'echo \"{public_key}\" > {remote_authorized_keys_path}')\n",
    "            ssh.exec_command('chmod 600 /root/.ssh/authorized_keys')\n",
    "\n",
    "            commands = [\n",
    "            'sudo sed -i \"s/^PasswordAuthentication yes/PasswordAuthentication no/\" /etc/ssh/sshd_config',\n",
    "            'sudo sed -i \"s/^PermitRootLogin yes/PermitRootLogin prohibit-password/\" /etc/ssh/sshd_config',\n",
    "            'sudo sed -i \"s/^PasswordAuthentication yes/PasswordAuthentication no/\" /etc/ssh/sshd_config.d/50-cloud-init.conf',\n",
    "            'sudo systemctl restart sshd',\n",
    "            'sudo service ssh restart'\n",
    "            ]\n",
    "\n",
    "            for command in commands:\n",
    "                _, stdout, _ = ssh.exec_command(command)\n",
    "                print(stdout.read().decode())\n",
    "    \n",
    "        sftp.close()\n",
    "    \n",
    "        ssh.close()\n",
    "    except Exception as e:\n",
    "        pass"
   ]
  },
  {
   "cell_type": "code",
   "execution_count": null,
   "id": "b25624a2-7201-4759-abc4-50d6694d1563",
   "metadata": {},
   "outputs": [],
   "source": [
    "load_key()"
   ]
  },
  {
   "cell_type": "code",
   "execution_count": null,
   "id": "89d9231e-6318-4765-a958-9ff3d279db98",
   "metadata": {},
   "outputs": [],
   "source": [
    "private_key = paramiko.RSAKey.from_private_key_file(private_key_path)\n",
    "ssh = paramiko.SSHClient()\n",
    "ssh.set_missing_host_key_policy(paramiko.AutoAddPolicy())\n",
    "ssh.connect(hostname, username=username, pkey=private_key)\n",
    "_, stdout, _ = ssh.exec_command('hostname')\n",
    "print(stdout.read().decode())"
   ]
  },
  {
   "cell_type": "code",
   "execution_count": null,
   "id": "55422b7b-8f61-4b71-b1f2-6d78f7de03a8",
   "metadata": {},
   "outputs": [],
   "source": [
    "_, stdout, _ = ssh.exec_command('sudo grep -i \"PasswordAuthentication\" /etc/ssh/sshd_config')\n",
    "print(stdout.read().decode())"
   ]
  }
 ],
 "metadata": {
  "kernelspec": {
   "display_name": "Python 3 (ipykernel)",
   "language": "python",
   "name": "python3"
  },
  "language_info": {
   "codemirror_mode": {
    "name": "ipython",
    "version": 3
   },
   "file_extension": ".py",
   "mimetype": "text/x-python",
   "name": "python",
   "nbconvert_exporter": "python",
   "pygments_lexer": "ipython3",
   "version": "3.13.2"
  }
 },
 "nbformat": 4,
 "nbformat_minor": 5
}
